{
 "cells": [
  {
   "attachments": {},
   "cell_type": "markdown",
   "metadata": {},
   "source": [
    "# Continuous Control\n",
    "\n",
    "---\n",
    "\n",
    "In this notebook, you will learn how to use the Unity ML-Agents environment for the second project of the [Deep Reinforcement Learning Nanodegree](https://www.udacity.com/course/deep-reinforcement-learning-nanodegree--nd893) program.\n",
    "\n",
    "### 1. Start the Environment\n",
    "\n",
    "We begin by importing the necessary packages.  If the code cell below returns an error, please revisit the project instructions to double-check that you have installed [Unity ML-Agents](https://github.com/Unity-Technologies/ml-agents/blob/master/docs/Installation.md) and [NumPy](http://www.numpy.org/)."
   ]
  },
  {
   "cell_type": "code",
   "execution_count": 1,
   "metadata": {},
   "outputs": [
    {
     "data": {
      "text/plain": [
       "True"
      ]
     },
     "execution_count": 1,
     "metadata": {},
     "output_type": "execute_result"
    }
   ],
   "source": [
    "import torch\n",
    "torch.cuda.is_available()"
   ]
  },
  {
   "cell_type": "code",
   "execution_count": 2,
   "metadata": {},
   "outputs": [],
   "source": [
    "from unityagents import UnityEnvironment\n",
    "import numpy as np"
   ]
  },
  {
   "attachments": {},
   "cell_type": "markdown",
   "metadata": {},
   "source": [
    "Next, we will start the environment!  **_Before running the code cell below_**, change the `file_name` parameter to match the location of the Unity environment that you downloaded.\n",
    "\n",
    "- **Mac**: `\"path/to/Reacher.app\"`\n",
    "- **Windows** (x86): `\"path/to/Reacher_Windows_x86/Reacher.exe\"`\n",
    "- **Windows** (x86_64): `\"path/to/Reacher_Windows_x86_64/Reacher.exe\"`\n",
    "- **Linux** (x86): `\"path/to/Reacher_Linux/Reacher.x86\"`\n",
    "- **Linux** (x86_64): `\"path/to/Reacher_Linux/Reacher.x86_64\"`\n",
    "- **Linux** (x86, headless): `\"path/to/Reacher_Linux_NoVis/Reacher.x86\"`\n",
    "- **Linux** (x86_64, headless): `\"path/to/Reacher_Linux_NoVis/Reacher.x86_64\"`\n",
    "\n",
    "For instance, if you are using a Mac, then you downloaded `Reacher.app`.  If this file is in the same folder as the notebook, then the line below should appear as follows:\n",
    "```\n",
    "env = UnityEnvironment(file_name=\"Reacher.app\")\n",
    "```"
   ]
  },
  {
   "cell_type": "code",
   "execution_count": 3,
   "metadata": {},
   "outputs": [
    {
     "name": "stderr",
     "output_type": "stream",
     "text": [
      "INFO:unityagents:\n",
      "'Academy' started successfully!\n",
      "Unity Academy name: Academy\n",
      "        Number of Brains: 1\n",
      "        Number of External Brains : 1\n",
      "        Lesson number : 0\n",
      "        Reset Parameters :\n",
      "\t\tgoal_speed -> 1.0\n",
      "\t\tgoal_size -> 5.0\n",
      "Unity brain name: ReacherBrain\n",
      "        Number of Visual Observations (per agent): 0\n",
      "        Vector Observation space type: continuous\n",
      "        Vector Observation space size (per agent): 33\n",
      "        Number of stacked Vector Observation: 1\n",
      "        Vector Action space type: continuous\n",
      "        Vector Action space size (per agent): 4\n",
      "        Vector Action descriptions: , , , \n"
     ]
    }
   ],
   "source": [
    "# env = UnityEnvironment(file_name='Reacher_Windows_x86_64_solo/Reacher.exe')\n",
    "env = UnityEnvironment(file_name='Reacher_Windows_x86_64_parallel/Reacher.exe')\n"
   ]
  },
  {
   "attachments": {},
   "cell_type": "markdown",
   "metadata": {},
   "source": [
    "Environments contain **_brains_** which are responsible for deciding the actions of their associated agents. Here we check for the first brain available, and set it as the default brain we will be controlling from Python."
   ]
  },
  {
   "cell_type": "code",
   "execution_count": 4,
   "metadata": {},
   "outputs": [],
   "source": [
    "# get the default brain\n",
    "brain_name = env.brain_names[0]\n",
    "brain = env.brains[brain_name]"
   ]
  },
  {
   "attachments": {},
   "cell_type": "markdown",
   "metadata": {},
   "source": [
    "### 2. Examine the State and Action Spaces\n",
    "\n",
    "In this environment, a double-jointed arm can move to target locations. A reward of `+0.1` is provided for each step that the agent's hand is in the goal location. Thus, the goal of your agent is to maintain its position at the target location for as many time steps as possible.\n",
    "\n",
    "The observation space consists of `33` variables corresponding to position, rotation, velocity, and angular velocities of the arm.  Each action is a vector with four numbers, corresponding to torque applicable to two joints.  Every entry in the action vector must be a number between `-1` and `1`.\n",
    "\n",
    "Run the code cell below to print some information about the environment."
   ]
  },
  {
   "cell_type": "code",
   "execution_count": 5,
   "metadata": {},
   "outputs": [
    {
     "name": "stdout",
     "output_type": "stream",
     "text": [
      "Number of agents: 20\n",
      "Size of each action: 4\n",
      "There are 20 agents. Each observes a state with length: 33\n",
      "The state for the first agent looks like: [ 0.00000000e+00 -4.00000000e+00  0.00000000e+00  1.00000000e+00\n",
      " -0.00000000e+00 -0.00000000e+00 -4.37113883e-08  0.00000000e+00\n",
      "  0.00000000e+00  0.00000000e+00  0.00000000e+00  0.00000000e+00\n",
      "  0.00000000e+00  0.00000000e+00 -1.00000000e+01  0.00000000e+00\n",
      "  1.00000000e+00 -0.00000000e+00 -0.00000000e+00 -4.37113883e-08\n",
      "  0.00000000e+00  0.00000000e+00  0.00000000e+00  0.00000000e+00\n",
      "  0.00000000e+00  0.00000000e+00  5.75471878e+00 -1.00000000e+00\n",
      "  5.55726624e+00  0.00000000e+00  1.00000000e+00  0.00000000e+00\n",
      " -1.68164849e-01]\n"
     ]
    }
   ],
   "source": [
    "# reset the environment\n",
    "env_info = env.reset(train_mode=True)[brain_name]\n",
    "\n",
    "# number of agents\n",
    "num_agents = len(env_info.agents)\n",
    "print('Number of agents:', num_agents)\n",
    "\n",
    "# size of each action\n",
    "action_size = brain.vector_action_space_size\n",
    "print('Size of each action:', action_size)\n",
    "\n",
    "# examine the state space \n",
    "states = env_info.vector_observations\n",
    "state_size = states.shape[1]\n",
    "print('There are {} agents. Each observes a state with length: {}'.format(states.shape[0], state_size))\n",
    "print('The state for the first agent looks like:', states[0])"
   ]
  },
  {
   "attachments": {},
   "cell_type": "markdown",
   "metadata": {},
   "source": [
    "### 3. Take Random Actions in the Environment\n",
    "\n",
    "In the next code cell, you will learn how to use the Python API to control the agent and receive feedback from the environment.\n",
    "\n",
    "Once this cell is executed, you will watch the agent's performance, if it selects an action at random with each time step.  A window should pop up that allows you to observe the agent, as it moves through the environment.  \n",
    "\n",
    "Of course, as part of the project, you'll have to change the code so that the agent is able to use its experience to gradually choose better actions when interacting with the environment!"
   ]
  },
  {
   "cell_type": "code",
   "execution_count": 6,
   "metadata": {},
   "outputs": [
    {
     "name": "stdout",
     "output_type": "stream",
     "text": [
      "skip\n"
     ]
    }
   ],
   "source": [
    "%%script echo skip\n",
    "\n",
    "env_info = env.reset(train_mode=False)[brain_name]     # reset the environment    \n",
    "states = env_info.vector_observations                  # get the current state (for each agent)\n",
    "scores = np.zeros(num_agents)                          # initialize the score (for each agent)\n",
    "while True:\n",
    "    actions = np.random.randn(num_agents, action_size) # select an action (for each agent)\n",
    "    actions = np.clip(actions, -1, 1)                  # all actions between -1 and 1\n",
    "\n",
    "    env_info = env.step(actions)[brain_name]           # send all actions to tne environment\n",
    "    next_states = env_info.vector_observations         # get next state (for each agent)\n",
    "    rewards = env_info.rewards                         # get reward (for each agent)\n",
    "    dones = env_info.local_done                        # see if episode finished\n",
    "    scores += env_info.rewards                         # update the score (for each agent)\n",
    "    states = next_states                               # roll over states to next time step\n",
    "    if np.any(dones):                                  # exit loop if episode finished\n",
    "        break\n",
    "print('Total score (averaged over agents) this episode: {}'.format(np.mean(scores)))"
   ]
  },
  {
   "attachments": {},
   "cell_type": "markdown",
   "metadata": {},
   "source": [
    "### 4. Training my OWN agent"
   ]
  },
  {
   "cell_type": "code",
   "execution_count": 7,
   "metadata": {},
   "outputs": [],
   "source": [
    "# import model\n",
    "# import agent\n",
    "# The agent shouldn't be that hard to learn, as long as the code is running correctly\n",
    "\n",
    "from ddpg_agent import Agent\n",
    "from collections import deque\n",
    "import matplotlib.pyplot as plt"
   ]
  },
  {
   "attachments": {},
   "cell_type": "markdown",
   "metadata": {},
   "source": [
    "When finished, you can close the environment."
   ]
  },
  {
   "cell_type": "code",
   "execution_count": 8,
   "metadata": {},
   "outputs": [
    {
     "name": "stdout",
     "output_type": "stream",
     "text": [
      "skip\n"
     ]
    }
   ],
   "source": [
    "%%script echo skip\n",
    "\n",
    "env.close()"
   ]
  },
  {
   "attachments": {},
   "cell_type": "markdown",
   "metadata": {},
   "source": [
    "### 4. It's Your Turn!\n",
    "\n",
    "Now it's your turn to train your own agent to solve the environment!  When training the environment, set `train_mode=True`, so that the line for resetting the environment looks like the following:\n",
    "```python\n",
    "env_info = env.reset(train_mode=True)[brain_name]\n",
    "```"
   ]
  },
  {
   "cell_type": "code",
   "execution_count": 10,
   "metadata": {},
   "outputs": [],
   "source": [
    "# %%script echo skip\n",
    "\n",
    "n_episodes = 800\n",
    "t_max = 1000                        #  a limitation of the environment\n",
    "SCORE_STOP_CONDITION = 30\n",
    "WINDOW_SIZE = 100\n",
    "N_PARALLEL = 20\n",
    "def agent_learning(env, agent, score_stop_condition):\n",
    "    scores_history = []                        # list containing scores from each episode\n",
    "    scores_window = deque(maxlen=WINDOW_SIZE)  # last 100 scores\n",
    "    best_score = 0\n",
    "    for i_episode in range(1,n_episodes+1):\n",
    "        # action = np.random.randint(action_size)          # select an action\n",
    "        score_ags = np.zeros(num_agents)                      # initialize the score\n",
    "        scores_avg = 0\n",
    "        env_info = env.reset(train_mode=True)[brain_name]  # reset environment\n",
    "        agent.reset()\n",
    "        \n",
    "        state_ags = env_info.vector_observations[:]            # get the current state\n",
    "        for t in range(1,t_max+1):\n",
    "            action_ags = agent.act(state_ags)\n",
    "\n",
    "            env_info = env.step(action_ags)[brain_name]       # send the action to the environment\n",
    "            next_state_ags = env_info.vector_observations[:]   # get the next state\n",
    "            reward_ags = env_info.rewards[:]              # get the reward\n",
    "            done_ags = env_info.local_done[:]                  # see if episode has finished\n",
    "\n",
    "            agent.step(state_ags, action_ags, reward_ags, next_state_ags, done_ags)\n",
    "\n",
    "            score_ags += reward_ags                                # update the scores\n",
    "            state_ags = next_state_ags                             # roll over the state to next time step\n",
    "            if any(done_ags):                                       # exit loop if episode finished\n",
    "                break\n",
    "        # print(f\"The environment ran {t} steps before finishing\")\n",
    "\n",
    "        score = np.mean(score_ags)\n",
    "        scores_window.append(score)\n",
    "        scores_history.append(score)                              # save most recent scores\n",
    "        \n",
    "        scores_avg = np.mean(scores_window)\n",
    "        \n",
    "        if score > best_score:\n",
    "            best_score = score\n",
    "        \n",
    "        # print('\\rEpisode {}\\tAverage Score: {:.1f}'.format(i_episode, np.mean(scores_window)), end=\"\", flush=True)\n",
    "        if i_episode % 2 == 0:\n",
    "            # print(f\"action selection:{action}\")\n",
    "            print('\\rEpisode {}\\tAverage Score: {:.2f}\\t Best score: {:.2f}'.format(i_episode, scores_avg, best_score))\n",
    "\n",
    "        if scores_avg >score_stop_condition:\n",
    "            print('\\nEnvironment solved in {:d} episodes!\\tAverage Score: {:.2f}'.format(i_episode-100, np.mean(scores_window)))\n",
    "            print(f\"Last scores batch:\\n{scores_window}\")\n",
    "            torch.save(agent.actor_local.state_dict(), 'checkpoint_actor.pth')\n",
    "            torch.save(agent.critic_local.state_dict(), 'checkpoint_critic.pth')\n",
    "            break\n",
    "\n",
    "        elif(i_episode == n_episodes):\n",
    "            print('\\Episodes horizon exceeded!\\tAverage Score: {:.2f}'.format(np.mean(scores_window)))\n",
    "            print(f\"Last scores batch:\\n{scores_window}\")            \n",
    "\n",
    "    return scores_history"
   ]
  },
  {
   "cell_type": "code",
   "execution_count": 11,
   "metadata": {},
   "outputs": [
    {
     "name": "stdout",
     "output_type": "stream",
     "text": [
      "Episode 2\tAverage Score: 0.46\t Best score: 0.52\n",
      "Episode 4\tAverage Score: 0.41\t Best score: 0.52\n",
      "Episode 6\tAverage Score: 0.28\t Best score: 0.52\n",
      "Episode 8\tAverage Score: 0.21\t Best score: 0.52\n",
      "Episode 10\tAverage Score: 0.17\t Best score: 0.52\n",
      "Episode 12\tAverage Score: 0.14\t Best score: 0.52\n",
      "Episode 14\tAverage Score: 0.19\t Best score: 0.55\n",
      "Episode 16\tAverage Score: 0.26\t Best score: 0.70\n",
      "Episode 18\tAverage Score: 0.31\t Best score: 0.76\n",
      "Episode 20\tAverage Score: 0.36\t Best score: 0.80\n",
      "Episode 22\tAverage Score: 0.40\t Best score: 0.87\n",
      "Episode 24\tAverage Score: 0.42\t Best score: 0.87\n",
      "Episode 26\tAverage Score: 0.43\t Best score: 0.87\n",
      "Episode 28\tAverage Score: 0.44\t Best score: 0.87\n",
      "Episode 30\tAverage Score: 0.46\t Best score: 0.87\n",
      "Episode 32\tAverage Score: 0.48\t Best score: 0.87\n",
      "Episode 34\tAverage Score: 0.48\t Best score: 0.87\n",
      "Episode 36\tAverage Score: 0.48\t Best score: 0.87\n",
      "Episode 38\tAverage Score: 0.50\t Best score: 0.98\n",
      "Episode 40\tAverage Score: 0.52\t Best score: 0.98\n",
      "Episode 42\tAverage Score: 0.55\t Best score: 1.20\n",
      "Episode 44\tAverage Score: 0.58\t Best score: 1.64\n",
      "Episode 46\tAverage Score: 0.62\t Best score: 1.64\n",
      "Episode 48\tAverage Score: 0.65\t Best score: 1.64\n",
      "Episode 50\tAverage Score: 0.69\t Best score: 1.71\n",
      "Episode 52\tAverage Score: 0.73\t Best score: 1.86\n",
      "Episode 54\tAverage Score: 0.76\t Best score: 1.86\n",
      "Episode 56\tAverage Score: 0.79\t Best score: 1.97\n",
      "Episode 58\tAverage Score: 0.83\t Best score: 2.18\n",
      "Episode 60\tAverage Score: 0.88\t Best score: 2.18\n",
      "Episode 62\tAverage Score: 0.91\t Best score: 2.18\n",
      "Episode 64\tAverage Score: 0.94\t Best score: 2.18\n",
      "Episode 66\tAverage Score: 0.98\t Best score: 2.51\n",
      "Episode 68\tAverage Score: 1.04\t Best score: 3.46\n",
      "Episode 70\tAverage Score: 1.09\t Best score: 3.46\n",
      "Episode 72\tAverage Score: 1.16\t Best score: 4.19\n",
      "Episode 74\tAverage Score: 1.25\t Best score: 4.51\n",
      "Episode 76\tAverage Score: 1.33\t Best score: 5.18\n",
      "Episode 78\tAverage Score: 1.44\t Best score: 5.47\n",
      "Episode 80\tAverage Score: 1.54\t Best score: 5.64\n",
      "Episode 82\tAverage Score: 1.64\t Best score: 5.99\n",
      "Episode 84\tAverage Score: 1.77\t Best score: 6.95\n",
      "Episode 86\tAverage Score: 1.87\t Best score: 6.95\n",
      "Episode 88\tAverage Score: 1.97\t Best score: 6.95\n",
      "Episode 90\tAverage Score: 2.11\t Best score: 8.64\n",
      "Episode 92\tAverage Score: 2.28\t Best score: 9.91\n",
      "Episode 94\tAverage Score: 2.44\t Best score: 10.60\n",
      "Episode 96\tAverage Score: 2.62\t Best score: 11.13\n",
      "Episode 98\tAverage Score: 2.82\t Best score: 13.98\n",
      "Episode 100\tAverage Score: 3.04\t Best score: 13.98\n",
      "Episode 102\tAverage Score: 3.32\t Best score: 14.82\n",
      "Episode 104\tAverage Score: 3.57\t Best score: 14.82\n",
      "Episode 106\tAverage Score: 3.89\t Best score: 16.53\n",
      "Episode 108\tAverage Score: 4.21\t Best score: 16.53\n",
      "Episode 110\tAverage Score: 4.56\t Best score: 18.26\n",
      "Episode 112\tAverage Score: 4.88\t Best score: 18.26\n",
      "Episode 114\tAverage Score: 5.28\t Best score: 20.94\n",
      "Episode 116\tAverage Score: 5.68\t Best score: 21.75\n",
      "Episode 118\tAverage Score: 6.10\t Best score: 22.35\n",
      "Episode 120\tAverage Score: 6.55\t Best score: 23.55\n",
      "Episode 122\tAverage Score: 7.00\t Best score: 23.83\n",
      "Episode 124\tAverage Score: 7.49\t Best score: 25.87\n",
      "Episode 126\tAverage Score: 8.03\t Best score: 27.82\n",
      "Episode 128\tAverage Score: 8.56\t Best score: 27.82\n",
      "Episode 130\tAverage Score: 9.08\t Best score: 27.82\n",
      "Episode 132\tAverage Score: 9.62\t Best score: 28.81\n",
      "Episode 134\tAverage Score: 10.16\t Best score: 28.81\n",
      "Episode 136\tAverage Score: 10.71\t Best score: 28.81\n",
      "Episode 138\tAverage Score: 11.24\t Best score: 28.81\n",
      "Episode 140\tAverage Score: 11.82\t Best score: 29.57\n",
      "Episode 142\tAverage Score: 12.36\t Best score: 29.57\n",
      "Episode 144\tAverage Score: 12.97\t Best score: 32.09\n",
      "Episode 146\tAverage Score: 13.58\t Best score: 32.11\n",
      "Episode 148\tAverage Score: 14.18\t Best score: 32.47\n",
      "Episode 150\tAverage Score: 14.80\t Best score: 33.71\n",
      "Episode 152\tAverage Score: 15.43\t Best score: 33.71\n",
      "Episode 154\tAverage Score: 16.07\t Best score: 34.06\n",
      "Episode 156\tAverage Score: 16.73\t Best score: 34.90\n",
      "Episode 158\tAverage Score: 17.39\t Best score: 35.27\n",
      "Episode 160\tAverage Score: 18.03\t Best score: 35.27\n",
      "Episode 162\tAverage Score: 18.68\t Best score: 35.27\n",
      "Episode 164\tAverage Score: 19.33\t Best score: 35.27\n",
      "Episode 166\tAverage Score: 19.97\t Best score: 35.54\n",
      "Episode 168\tAverage Score: 20.60\t Best score: 35.54\n",
      "Episode 170\tAverage Score: 21.27\t Best score: 36.40\n",
      "Episode 172\tAverage Score: 21.92\t Best score: 36.54\n",
      "Episode 174\tAverage Score: 22.54\t Best score: 36.54\n",
      "Episode 176\tAverage Score: 23.17\t Best score: 36.54\n",
      "Episode 178\tAverage Score: 23.80\t Best score: 36.57\n",
      "Episode 180\tAverage Score: 24.41\t Best score: 36.69\n",
      "Episode 182\tAverage Score: 25.01\t Best score: 36.69\n",
      "Episode 184\tAverage Score: 25.58\t Best score: 36.69\n",
      "Episode 186\tAverage Score: 26.16\t Best score: 36.69\n",
      "Episode 188\tAverage Score: 26.75\t Best score: 36.69\n",
      "Episode 190\tAverage Score: 27.30\t Best score: 36.69\n",
      "Episode 192\tAverage Score: 27.83\t Best score: 36.69\n",
      "Episode 194\tAverage Score: 28.33\t Best score: 36.69\n",
      "Episode 196\tAverage Score: 28.82\t Best score: 36.69\n",
      "Episode 198\tAverage Score: 29.26\t Best score: 36.69\n",
      "Episode 200\tAverage Score: 29.67\t Best score: 36.69\n",
      "Episode 202\tAverage Score: 30.05\t Best score: 36.69\n",
      "\n",
      "Environment solved in 102 episodes!\tAverage Score: 30.05\n",
      "Last scores batch:\n",
      "deque([13.211499704699964, 13.036499708611519, 15.09149966267869, 16.53249963046983, 16.228499637264758, 15.893499644752591, 16.666499627474696, 18.258999591879547, 15.537999652698636, 17.053999618813396, 20.93549953205511, 19.64599956087768, 19.57549956245348, 21.746499513927848, 21.670999515615403, 22.346499500516803, 22.123999505490065, 23.550499473605306, 23.51599947437644, 23.829999467357993, 25.86749942181632, 23.848499466944485, 27.82349937809631, 27.454499386344104, 27.19099939223379, 27.0854993945919, 26.44149940898642, 27.15249939309433, 26.196499414462597, 28.80899935606867, 27.535999384522437, 27.80149937858805, 27.859999377280474, 27.981499374564738, 28.06049937279895, 27.51799938492477, 29.372499343473464, 29.5679993391037, 28.341999366506933, 28.173499370273202, 32.089999282732606, 30.93399930857122, 32.08149928292259, 32.10999928228557, 30.26199932359159, 32.465999274328354, 32.00249928468838, 33.713999246433374, 33.34649925464764, 32.703499269019815, 34.062499238643795, 33.203499257843944, 34.03299923930317, 34.90499921981245, 34.78149922257289, 35.26999921165407, 34.80349922208116, 33.652999247796835, 34.422999230585994, 34.039499239157884, 33.44599925242365, 35.11449921512976, 35.53549920571968, 33.243499256949875, 33.876499242801216, 35.27099921163172, 36.04899919424206, 36.40099918637425, 36.535999183356765, 35.781999200209974, 35.700499202031644, 35.42449920820072, 35.95549919633195, 36.404499186296015, 36.5699991825968, 36.32099918816239, 36.689999179914594, 36.209499190654604, 35.065999216213825, 35.92449919702485, 35.32999921031296, 35.58599920459092, 34.76949922284111, 35.4404992078431, 35.490999206714335, 36.35199918746948, 35.42349920822308, 36.21249919058755, 36.291999188810586, 36.40999918617308, 35.79249919997528, 33.95499924104661, 36.12299919258803, 34.990999217890206, 34.132999237068, 34.97599921822548, 33.62549924841151, 34.311999233067034, 33.38999925367534, 33.29299925584346], maxlen=100)\n"
     ]
    }
   ],
   "source": [
    "\n",
    "# get the default brain (the interface for the agent)\n",
    "brain_name = env.brain_names[0]\n",
    "brain = env.brains[brain_name]\n",
    "# create a new agent\n",
    "agent = Agent(state_size=brain.vector_observation_space_size, action_size=brain.vector_action_space_size,n_parallel=N_PARALLEL, random_seed=0)\n",
    "agent_scores = agent_learning(env, agent, score_stop_condition=SCORE_STOP_CONDITION)\n"
   ]
  },
  {
   "cell_type": "code",
   "execution_count": 15,
   "metadata": {},
   "outputs": [
    {
     "data": {
      "image/png": "[encoded data removed]",
      "text/plain": [
       "<Figure size 432x288 with 1 Axes>"
      ]
     },
     "metadata": {
      "needs_background": "light"
     },
     "output_type": "display_data"
    }
   ],
   "source": [
    "# TODO: improve monitoring of the learning process\n",
    "\n",
    "plt.plot(agent_scores, label = \"Mean score\")\n",
    "plt.xlabel(\"Episodes\")\n",
    "plt.ylabel(\"Score\")\n",
    "plt.title(f\"Learning curve: Double DQN with a limit of {n_episodes} episodes\")\n",
    "plt.legend()\n",
    "plt.show()"
   ]
  },
  {
   "cell_type": "code",
   "execution_count": 13,
   "metadata": {},
   "outputs": [],
   "source": [
    "env.close()"
   ]
  }
 ],
 "metadata": {
  "kernelspec": {
   "display_name": "drlnd",
   "language": "python",
   "name": "python3"
  },
  "language_info": {
   "codemirror_mode": {
    "name": "ipython",
    "version": 3
   },
   "file_extension": ".py",
   "mimetype": "text/x-python",
   "name": "python",
   "nbconvert_exporter": "python",
   "pygments_lexer": "ipython3",
   "version": "3.6.13"
  },
  "vscode": {
   "interpreter": {
    "hash": "7d5a6eb37eab106ee73255bf6977e218158eca1d7d01f034983b95ae0d576c4b"
   }
  }
 },
 "nbformat": 4,
 "nbformat_minor": 2
}
